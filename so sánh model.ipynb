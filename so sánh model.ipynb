{
 "cells": [
  {
   "cell_type": "code",
   "execution_count": 41,
   "metadata": {},
   "outputs": [],
   "source": [
    "from sklearn.model_selection import train_test_split\n",
    "from sklearn.metrics import accuracy_score, precision_score, recall_score, f1_score, roc_auc_score\n",
    "import numpy as np\n",
    "import pandas as pd\n",
    "import joblib"
   ]
  },
  {
   "cell_type": "code",
   "execution_count": 42,
   "metadata": {},
   "outputs": [],
   "source": [
    "model_1=joblib.load('logistic_regression_model.pkl')\n",
    "model_2=joblib.load('knn.pkl')\n",
    "model_3=joblib.load('Perceptron.pkl')"
   ]
  },
  {
   "cell_type": "code",
   "execution_count": 43,
   "metadata": {},
   "outputs": [],
   "source": [
    "data = pd.read_csv('data_clean.csv')\n",
    "y = data.diagnosis.values\n",
    "x_data = data.drop(['diagnosis'], axis = 1)\n",
    "\n",
    "# Chuẩn hóa \n",
    "x = (x_data - np.min(x_data))/(np.max(x_data) - np.min(x_data))"
   ]
  },
  {
   "cell_type": "code",
   "execution_count": 44,
   "metadata": {},
   "outputs": [],
   "source": [
    "from sklearn.model_selection import train_test_split\n",
    "\n",
    "# Assuming x and y are your features and labels\n",
    "X_train, X_test, y_train, y_test = train_test_split(x, y, test_size=0.15, random_state=42)"
   ]
  },
  {
   "cell_type": "code",
   "execution_count": 45,
   "metadata": {},
   "outputs": [],
   "source": [
    "y_pred1 = model_1.predict(X_test)\n",
    "model_2.fit(X_train, y_train)\n",
    "y_pred2 = model_2.predict(X_test)\n",
    "y_pred3 = model_3.predict(X_test)"
   ]
  },
  {
   "cell_type": "code",
   "execution_count": 46,
   "metadata": {},
   "outputs": [],
   "source": [
    "#model 1\n",
    "accuracy1 = accuracy_score(y_test, y_pred1)\n",
    "precision1 = precision_score(y_test, y_pred1)\n",
    "recall1 = recall_score(y_test, y_pred1)\n",
    "f1_1 = f1_score(y_test, y_pred1)\n",
    "auc1 = roc_auc_score(y_test, y_pred1)\n",
    "#model 2\n",
    "accuracy2 = accuracy_score(y_test, y_pred2)\n",
    "precision2 = precision_score(y_test, y_pred2)\n",
    "recall2 = recall_score(y_test, y_pred2)\n",
    "f1_2 = f1_score(y_test, y_pred2)\n",
    "auc2 = roc_auc_score(y_test, y_pred2)\n",
    "#model 3\n",
    "accuracy3 = accuracy_score(y_test, y_pred3)\n",
    "precision3 = precision_score(y_test, y_pred3)\n",
    "recall3 = recall_score(y_test, y_pred3)\n",
    "f1_3 = f1_score(y_test, y_pred3)\n",
    "auc3 = roc_auc_score(y_test, y_pred3)"
   ]
  },
  {
   "cell_type": "code",
   "execution_count": 51,
   "metadata": {},
   "outputs": [
    {
     "data": {
      "text/html": [
       "<div>\n",
       "<style scoped>\n",
       "    .dataframe tbody tr th:only-of-type {\n",
       "        vertical-align: middle;\n",
       "    }\n",
       "\n",
       "    .dataframe tbody tr th {\n",
       "        vertical-align: top;\n",
       "    }\n",
       "\n",
       "    .dataframe thead th {\n",
       "        text-align: right;\n",
       "    }\n",
       "</style>\n",
       "<table border=\"1\" class=\"dataframe\">\n",
       "  <thead>\n",
       "    <tr style=\"text-align: right;\">\n",
       "      <th></th>\n",
       "      <th>Model</th>\n",
       "      <th>Accuracy</th>\n",
       "      <th>Precision</th>\n",
       "      <th>Recall</th>\n",
       "      <th>F1 Score</th>\n",
       "      <th>AUC</th>\n",
       "    </tr>\n",
       "  </thead>\n",
       "  <tbody>\n",
       "    <tr>\n",
       "      <th>0</th>\n",
       "      <td>Logistic_regression</td>\n",
       "      <td>0.895349</td>\n",
       "      <td>1.000000</td>\n",
       "      <td>0.71875</td>\n",
       "      <td>0.836364</td>\n",
       "      <td>0.859375</td>\n",
       "    </tr>\n",
       "    <tr>\n",
       "      <th>1</th>\n",
       "      <td>KNN</td>\n",
       "      <td>0.941860</td>\n",
       "      <td>0.965517</td>\n",
       "      <td>0.87500</td>\n",
       "      <td>0.918033</td>\n",
       "      <td>0.928241</td>\n",
       "    </tr>\n",
       "    <tr>\n",
       "      <th>2</th>\n",
       "      <td>PLA</td>\n",
       "      <td>0.976744</td>\n",
       "      <td>0.941176</td>\n",
       "      <td>1.00000</td>\n",
       "      <td>0.969697</td>\n",
       "      <td>0.981481</td>\n",
       "    </tr>\n",
       "  </tbody>\n",
       "</table>\n",
       "</div>"
      ],
      "text/plain": [
       "                 Model  Accuracy  Precision   Recall  F1 Score       AUC\n",
       "0  Logistic_regression  0.895349   1.000000  0.71875  0.836364  0.859375\n",
       "1                  KNN  0.941860   0.965517  0.87500  0.918033  0.928241\n",
       "2                  PLA  0.976744   0.941176  1.00000  0.969697  0.981481"
      ]
     },
     "execution_count": 51,
     "metadata": {},
     "output_type": "execute_result"
    }
   ],
   "source": [
    "# lập bảng so sánh\n",
    "data1 = {\n",
    "    'Model': ['Logistic_regression','KNN','PLA'],\n",
    "    'Accuracy': [accuracy1, accuracy2, accuracy3],\n",
    "    'Precision': [precision1, precision2, precision3],\n",
    "    'Recall': [recall1, recall2, recall3],\n",
    "    'F1 Score': [f1_1, f1_2, f1_3],\n",
    "    'AUC': [auc1, auc2, auc3]\n",
    "}\n",
    "\n",
    "df = pd.DataFrame(data1)\n",
    "df"
   ]
  }
 ],
 "metadata": {
  "kernelspec": {
   "display_name": "Python 3",
   "language": "python",
   "name": "python3"
  },
  "language_info": {
   "codemirror_mode": {
    "name": "ipython",
    "version": 3
   },
   "file_extension": ".py",
   "mimetype": "text/x-python",
   "name": "python",
   "nbconvert_exporter": "python",
   "pygments_lexer": "ipython3",
   "version": "3.12.3"
  }
 },
 "nbformat": 4,
 "nbformat_minor": 2
}
