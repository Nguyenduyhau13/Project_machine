{
 "cells": [
  {
   "cell_type": "code",
   "execution_count": 22,
   "metadata": {},
   "outputs": [],
   "source": [
    "from sklearn.metrics import accuracy_score, precision_score, recall_score, f1_score, roc_auc_score"
   ]
  },
  {
   "cell_type": "code",
   "execution_count": 23,
   "metadata": {},
   "outputs": [
    {
     "name": "stdout",
     "output_type": "stream",
     "text": [
      "Model 1 metrics:\n",
      "Accuracy:  0.37209302325581395\n",
      "Precision:  0.37209302325581395\n",
      "Recall:  1.0\n",
      "F1 Score:  0.5423728813559322\n",
      "AUC:  0.5\n"
     ]
    }
   ],
   "source": [
    "from joblib import load\n",
    "from sklearn.metrics import accuracy_score, precision_score, recall_score, f1_score, roc_auc_score\n",
    "\n",
    "# Load the trained model\n",
    "model_1 = load('logistic_regression_model.pkl')\n",
    "\n",
    "# Use the model to predict labels for the test set\n",
    "y_pred1 = model_1.predict(x_test1)\n",
    "\n",
    "# Calculate metrics for model 1\n",
    "accuracy1 = accuracy_score(y_test1, y_pred1)\n",
    "precision1 = precision_score(y_test1, y_pred1)\n",
    "recall1 = recall_score(y_test1, y_pred1)\n",
    "f1_1 = f1_score(y_test1, y_pred1)\n",
    "auc1 = roc_auc_score(y_test1, y_pred1)\n",
    "\n",
    "# Print the metrics\n",
    "print(\"Model 1 metrics:\")\n",
    "print(\"Accuracy: \", accuracy1)\n",
    "print(\"Precision: \", precision1)\n",
    "print(\"Recall: \", recall1)\n",
    "print(\"F1 Score: \", f1_1)\n",
    "print(\"AUC: \", auc1)"
   ]
  }
 ],
 "metadata": {
  "kernelspec": {
   "display_name": "Python 3",
   "language": "python",
   "name": "python3"
  },
  "language_info": {
   "codemirror_mode": {
    "name": "ipython",
    "version": 3
   },
   "file_extension": ".py",
   "mimetype": "text/x-python",
   "name": "python",
   "nbconvert_exporter": "python",
   "pygments_lexer": "ipython3",
   "version": "3.12.3"
  }
 },
 "nbformat": 4,
 "nbformat_minor": 2
}
