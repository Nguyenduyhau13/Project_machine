{
 "cells": [
  {
   "cell_type": "code",
   "execution_count": 192,
   "metadata": {},
   "outputs": [],
   "source": [
    "import numpy as np \n",
    "import matplotlib.pyplot as plt\n",
    "from sklearn.model_selection import train_test_split\n",
    "import numpy as np\n",
    "from scipy.spatial.distance import cdist\n",
    "from sklearn.linear_model import Perceptron\n",
    "import pandas as pd\n",
    "np.random.seed(42)"
   ]
  },
  {
   "cell_type": "code",
   "execution_count": 193,
   "metadata": {},
   "outputs": [],
   "source": [
    "data= pd.read_csv(\"data_clean.csv\")"
   ]
  },
  {
   "cell_type": "code",
   "execution_count": 194,
   "metadata": {},
   "outputs": [
    {
     "data": {
      "text/html": [
       "<div>\n",
       "<style scoped>\n",
       "    .dataframe tbody tr th:only-of-type {\n",
       "        vertical-align: middle;\n",
       "    }\n",
       "\n",
       "    .dataframe tbody tr th {\n",
       "        vertical-align: top;\n",
       "    }\n",
       "\n",
       "    .dataframe thead th {\n",
       "        text-align: right;\n",
       "    }\n",
       "</style>\n",
       "<table border=\"1\" class=\"dataframe\">\n",
       "  <thead>\n",
       "    <tr style=\"text-align: right;\">\n",
       "      <th></th>\n",
       "      <th>Unnamed: 0</th>\n",
       "      <th>diagnosis</th>\n",
       "      <th>radius_mean</th>\n",
       "      <th>texture_mean</th>\n",
       "      <th>perimeter_mean</th>\n",
       "      <th>area_mean</th>\n",
       "      <th>smoothness_mean</th>\n",
       "      <th>compactness_mean</th>\n",
       "      <th>concavity_mean</th>\n",
       "      <th>concave points_mean</th>\n",
       "      <th>...</th>\n",
       "      <th>radius_worst</th>\n",
       "      <th>texture_worst</th>\n",
       "      <th>perimeter_worst</th>\n",
       "      <th>area_worst</th>\n",
       "      <th>smoothness_worst</th>\n",
       "      <th>compactness_worst</th>\n",
       "      <th>concavity_worst</th>\n",
       "      <th>concave points_worst</th>\n",
       "      <th>symmetry_worst</th>\n",
       "      <th>fractal_dimension_worst</th>\n",
       "    </tr>\n",
       "  </thead>\n",
       "  <tbody>\n",
       "    <tr>\n",
       "      <th>102</th>\n",
       "      <td>102</td>\n",
       "      <td>0</td>\n",
       "      <td>12.180</td>\n",
       "      <td>20.52</td>\n",
       "      <td>77.22</td>\n",
       "      <td>458.7</td>\n",
       "      <td>0.08013</td>\n",
       "      <td>0.04038</td>\n",
       "      <td>0.02383</td>\n",
       "      <td>0.01770</td>\n",
       "      <td>...</td>\n",
       "      <td>13.340</td>\n",
       "      <td>32.84</td>\n",
       "      <td>84.58</td>\n",
       "      <td>547.8</td>\n",
       "      <td>0.11230</td>\n",
       "      <td>0.08862</td>\n",
       "      <td>0.11450</td>\n",
       "      <td>0.07431</td>\n",
       "      <td>0.2694</td>\n",
       "      <td>0.06878</td>\n",
       "    </tr>\n",
       "    <tr>\n",
       "      <th>435</th>\n",
       "      <td>435</td>\n",
       "      <td>1</td>\n",
       "      <td>13.980</td>\n",
       "      <td>19.62</td>\n",
       "      <td>91.12</td>\n",
       "      <td>599.5</td>\n",
       "      <td>0.10600</td>\n",
       "      <td>0.11330</td>\n",
       "      <td>0.11260</td>\n",
       "      <td>0.06463</td>\n",
       "      <td>...</td>\n",
       "      <td>17.040</td>\n",
       "      <td>30.80</td>\n",
       "      <td>113.90</td>\n",
       "      <td>869.3</td>\n",
       "      <td>0.16130</td>\n",
       "      <td>0.35680</td>\n",
       "      <td>0.40690</td>\n",
       "      <td>0.18270</td>\n",
       "      <td>0.3179</td>\n",
       "      <td>0.10550</td>\n",
       "    </tr>\n",
       "    <tr>\n",
       "      <th>270</th>\n",
       "      <td>270</td>\n",
       "      <td>0</td>\n",
       "      <td>14.290</td>\n",
       "      <td>16.82</td>\n",
       "      <td>90.30</td>\n",
       "      <td>632.6</td>\n",
       "      <td>0.06429</td>\n",
       "      <td>0.02675</td>\n",
       "      <td>0.00725</td>\n",
       "      <td>0.00625</td>\n",
       "      <td>...</td>\n",
       "      <td>14.910</td>\n",
       "      <td>20.65</td>\n",
       "      <td>94.44</td>\n",
       "      <td>684.6</td>\n",
       "      <td>0.08567</td>\n",
       "      <td>0.05036</td>\n",
       "      <td>0.03866</td>\n",
       "      <td>0.03333</td>\n",
       "      <td>0.2458</td>\n",
       "      <td>0.06120</td>\n",
       "    </tr>\n",
       "    <tr>\n",
       "      <th>106</th>\n",
       "      <td>106</td>\n",
       "      <td>0</td>\n",
       "      <td>11.640</td>\n",
       "      <td>18.33</td>\n",
       "      <td>75.17</td>\n",
       "      <td>412.5</td>\n",
       "      <td>0.11420</td>\n",
       "      <td>0.10170</td>\n",
       "      <td>0.07070</td>\n",
       "      <td>0.03485</td>\n",
       "      <td>...</td>\n",
       "      <td>13.140</td>\n",
       "      <td>29.26</td>\n",
       "      <td>85.51</td>\n",
       "      <td>521.7</td>\n",
       "      <td>0.16880</td>\n",
       "      <td>0.26600</td>\n",
       "      <td>0.28730</td>\n",
       "      <td>0.12180</td>\n",
       "      <td>0.2806</td>\n",
       "      <td>0.09097</td>\n",
       "    </tr>\n",
       "    <tr>\n",
       "      <th>71</th>\n",
       "      <td>71</td>\n",
       "      <td>0</td>\n",
       "      <td>8.888</td>\n",
       "      <td>14.64</td>\n",
       "      <td>58.79</td>\n",
       "      <td>244.0</td>\n",
       "      <td>0.09783</td>\n",
       "      <td>0.15310</td>\n",
       "      <td>0.08606</td>\n",
       "      <td>0.02872</td>\n",
       "      <td>...</td>\n",
       "      <td>9.733</td>\n",
       "      <td>15.67</td>\n",
       "      <td>62.56</td>\n",
       "      <td>284.4</td>\n",
       "      <td>0.12070</td>\n",
       "      <td>0.24360</td>\n",
       "      <td>0.14340</td>\n",
       "      <td>0.04786</td>\n",
       "      <td>0.2254</td>\n",
       "      <td>0.10840</td>\n",
       "    </tr>\n",
       "    <tr>\n",
       "      <th>...</th>\n",
       "      <td>...</td>\n",
       "      <td>...</td>\n",
       "      <td>...</td>\n",
       "      <td>...</td>\n",
       "      <td>...</td>\n",
       "      <td>...</td>\n",
       "      <td>...</td>\n",
       "      <td>...</td>\n",
       "      <td>...</td>\n",
       "      <td>...</td>\n",
       "      <td>...</td>\n",
       "      <td>...</td>\n",
       "      <td>...</td>\n",
       "      <td>...</td>\n",
       "      <td>...</td>\n",
       "      <td>...</td>\n",
       "      <td>...</td>\n",
       "      <td>...</td>\n",
       "      <td>...</td>\n",
       "      <td>...</td>\n",
       "      <td>...</td>\n",
       "    </tr>\n",
       "    <tr>\n",
       "      <th>223</th>\n",
       "      <td>223</td>\n",
       "      <td>1</td>\n",
       "      <td>15.750</td>\n",
       "      <td>20.25</td>\n",
       "      <td>102.60</td>\n",
       "      <td>761.3</td>\n",
       "      <td>0.10250</td>\n",
       "      <td>0.12040</td>\n",
       "      <td>0.11470</td>\n",
       "      <td>0.06462</td>\n",
       "      <td>...</td>\n",
       "      <td>19.560</td>\n",
       "      <td>30.29</td>\n",
       "      <td>125.90</td>\n",
       "      <td>1088.0</td>\n",
       "      <td>0.15520</td>\n",
       "      <td>0.44800</td>\n",
       "      <td>0.39760</td>\n",
       "      <td>0.14790</td>\n",
       "      <td>0.3993</td>\n",
       "      <td>0.10640</td>\n",
       "    </tr>\n",
       "    <tr>\n",
       "      <th>238</th>\n",
       "      <td>238</td>\n",
       "      <td>0</td>\n",
       "      <td>14.220</td>\n",
       "      <td>27.85</td>\n",
       "      <td>92.55</td>\n",
       "      <td>623.9</td>\n",
       "      <td>0.08223</td>\n",
       "      <td>0.10390</td>\n",
       "      <td>0.11030</td>\n",
       "      <td>0.04408</td>\n",
       "      <td>...</td>\n",
       "      <td>15.750</td>\n",
       "      <td>40.54</td>\n",
       "      <td>102.50</td>\n",
       "      <td>764.0</td>\n",
       "      <td>0.10810</td>\n",
       "      <td>0.24260</td>\n",
       "      <td>0.30640</td>\n",
       "      <td>0.08219</td>\n",
       "      <td>0.1890</td>\n",
       "      <td>0.07796</td>\n",
       "    </tr>\n",
       "    <tr>\n",
       "      <th>176</th>\n",
       "      <td>176</td>\n",
       "      <td>0</td>\n",
       "      <td>9.904</td>\n",
       "      <td>18.06</td>\n",
       "      <td>64.60</td>\n",
       "      <td>302.4</td>\n",
       "      <td>0.09699</td>\n",
       "      <td>0.12940</td>\n",
       "      <td>0.13070</td>\n",
       "      <td>0.03716</td>\n",
       "      <td>...</td>\n",
       "      <td>11.260</td>\n",
       "      <td>24.39</td>\n",
       "      <td>73.07</td>\n",
       "      <td>390.2</td>\n",
       "      <td>0.13010</td>\n",
       "      <td>0.29500</td>\n",
       "      <td>0.34860</td>\n",
       "      <td>0.09910</td>\n",
       "      <td>0.2614</td>\n",
       "      <td>0.11620</td>\n",
       "    </tr>\n",
       "    <tr>\n",
       "      <th>281</th>\n",
       "      <td>281</td>\n",
       "      <td>0</td>\n",
       "      <td>11.740</td>\n",
       "      <td>14.02</td>\n",
       "      <td>74.24</td>\n",
       "      <td>427.3</td>\n",
       "      <td>0.07813</td>\n",
       "      <td>0.04340</td>\n",
       "      <td>0.02245</td>\n",
       "      <td>0.02763</td>\n",
       "      <td>...</td>\n",
       "      <td>13.310</td>\n",
       "      <td>18.26</td>\n",
       "      <td>84.70</td>\n",
       "      <td>533.7</td>\n",
       "      <td>0.10360</td>\n",
       "      <td>0.08500</td>\n",
       "      <td>0.06735</td>\n",
       "      <td>0.08290</td>\n",
       "      <td>0.3101</td>\n",
       "      <td>0.06688</td>\n",
       "    </tr>\n",
       "    <tr>\n",
       "      <th>62</th>\n",
       "      <td>62</td>\n",
       "      <td>1</td>\n",
       "      <td>14.250</td>\n",
       "      <td>22.15</td>\n",
       "      <td>96.42</td>\n",
       "      <td>645.7</td>\n",
       "      <td>0.10490</td>\n",
       "      <td>0.20080</td>\n",
       "      <td>0.21350</td>\n",
       "      <td>0.08653</td>\n",
       "      <td>...</td>\n",
       "      <td>17.670</td>\n",
       "      <td>29.51</td>\n",
       "      <td>119.10</td>\n",
       "      <td>959.5</td>\n",
       "      <td>0.16400</td>\n",
       "      <td>0.62470</td>\n",
       "      <td>0.69220</td>\n",
       "      <td>0.17850</td>\n",
       "      <td>0.2844</td>\n",
       "      <td>0.11320</td>\n",
       "    </tr>\n",
       "  </tbody>\n",
       "</table>\n",
       "<p>569 rows × 32 columns</p>\n",
       "</div>"
      ],
      "text/plain": [
       "     Unnamed: 0  diagnosis  radius_mean  texture_mean  perimeter_mean  \\\n",
       "102         102          0       12.180         20.52           77.22   \n",
       "435         435          1       13.980         19.62           91.12   \n",
       "270         270          0       14.290         16.82           90.30   \n",
       "106         106          0       11.640         18.33           75.17   \n",
       "71           71          0        8.888         14.64           58.79   \n",
       "..          ...        ...          ...           ...             ...   \n",
       "223         223          1       15.750         20.25          102.60   \n",
       "238         238          0       14.220         27.85           92.55   \n",
       "176         176          0        9.904         18.06           64.60   \n",
       "281         281          0       11.740         14.02           74.24   \n",
       "62           62          1       14.250         22.15           96.42   \n",
       "\n",
       "     area_mean  smoothness_mean  compactness_mean  concavity_mean  \\\n",
       "102      458.7          0.08013           0.04038         0.02383   \n",
       "435      599.5          0.10600           0.11330         0.11260   \n",
       "270      632.6          0.06429           0.02675         0.00725   \n",
       "106      412.5          0.11420           0.10170         0.07070   \n",
       "71       244.0          0.09783           0.15310         0.08606   \n",
       "..         ...              ...               ...             ...   \n",
       "223      761.3          0.10250           0.12040         0.11470   \n",
       "238      623.9          0.08223           0.10390         0.11030   \n",
       "176      302.4          0.09699           0.12940         0.13070   \n",
       "281      427.3          0.07813           0.04340         0.02245   \n",
       "62       645.7          0.10490           0.20080         0.21350   \n",
       "\n",
       "     concave points_mean  ...  radius_worst  texture_worst  perimeter_worst  \\\n",
       "102              0.01770  ...        13.340          32.84            84.58   \n",
       "435              0.06463  ...        17.040          30.80           113.90   \n",
       "270              0.00625  ...        14.910          20.65            94.44   \n",
       "106              0.03485  ...        13.140          29.26            85.51   \n",
       "71               0.02872  ...         9.733          15.67            62.56   \n",
       "..                   ...  ...           ...            ...              ...   \n",
       "223              0.06462  ...        19.560          30.29           125.90   \n",
       "238              0.04408  ...        15.750          40.54           102.50   \n",
       "176              0.03716  ...        11.260          24.39            73.07   \n",
       "281              0.02763  ...        13.310          18.26            84.70   \n",
       "62               0.08653  ...        17.670          29.51           119.10   \n",
       "\n",
       "     area_worst  smoothness_worst  compactness_worst  concavity_worst  \\\n",
       "102       547.8           0.11230            0.08862          0.11450   \n",
       "435       869.3           0.16130            0.35680          0.40690   \n",
       "270       684.6           0.08567            0.05036          0.03866   \n",
       "106       521.7           0.16880            0.26600          0.28730   \n",
       "71        284.4           0.12070            0.24360          0.14340   \n",
       "..          ...               ...                ...              ...   \n",
       "223      1088.0           0.15520            0.44800          0.39760   \n",
       "238       764.0           0.10810            0.24260          0.30640   \n",
       "176       390.2           0.13010            0.29500          0.34860   \n",
       "281       533.7           0.10360            0.08500          0.06735   \n",
       "62        959.5           0.16400            0.62470          0.69220   \n",
       "\n",
       "     concave points_worst  symmetry_worst  fractal_dimension_worst  \n",
       "102               0.07431          0.2694                  0.06878  \n",
       "435               0.18270          0.3179                  0.10550  \n",
       "270               0.03333          0.2458                  0.06120  \n",
       "106               0.12180          0.2806                  0.09097  \n",
       "71                0.04786          0.2254                  0.10840  \n",
       "..                    ...             ...                      ...  \n",
       "223               0.14790          0.3993                  0.10640  \n",
       "238               0.08219          0.1890                  0.07796  \n",
       "176               0.09910          0.2614                  0.11620  \n",
       "281               0.08290          0.3101                  0.06688  \n",
       "62                0.17850          0.2844                  0.11320  \n",
       "\n",
       "[569 rows x 32 columns]"
      ]
     },
     "execution_count": 194,
     "metadata": {},
     "output_type": "execute_result"
    }
   ],
   "source": [
    "y = data.diagnosis.values\n",
    "x_data = data.drop(['diagnosis'], axis = 1)\n",
    "\n",
    "# Chuẩn hóa \n",
    "x = x_data\n",
    "data.sample(frac=1, random_state=42, replace=True)"
   ]
  },
  {
   "cell_type": "code",
   "execution_count": 195,
   "metadata": {},
   "outputs": [
    {
     "name": "stdout",
     "output_type": "stream",
     "text": [
      "x train:  (483, 31)\n",
      "x test:  (86, 31)\n",
      "y train:  (483,)\n",
      "y test:  (86,)\n"
     ]
    }
   ],
   "source": [
    "x_train, x_test, y_train, y_test = train_test_split(\n",
    "\tx, y, test_size = 0.15, random_state = 42)\n",
    "\n",
    "#x_train = x_train.T\n",
    "#x_test = x_test.T\n",
    "#y_train = y_train.T\n",
    "#y_test = y_test.T\n",
    "\n",
    "print(\"x train: \", x_train.shape)\n",
    "print(\"x test: \", x_test.shape)\n",
    "print(\"y train: \", y_train.shape)\n",
    "print(\"y test: \", y_test.shape)\n"
   ]
  },
  {
   "cell_type": "code",
   "execution_count": 196,
   "metadata": {},
   "outputs": [
    {
     "data": {
      "image/png": "[encoded data removed]",
      "text/plain": [
       "<Figure size 640x480 with 1 Axes>"
      ]
     },
     "metadata": {},
     "output_type": "display_data"
    }
   ],
   "source": [
    "from sklearn.decomposition import PCA\n",
    "\n",
    "# Sử dụng PCA để giảm chiều dữ liệu xuống còn 2\n",
    "pca = PCA(n_components=2)\n",
    "X_pca = pca.fit_transform(x_train)\n",
    "\n",
    "# Vẽ biểu đồ scatter plot với 2 thành phần chính từ PCA\n",
    "color = ['red' if value == 1 else 'blue' for value in y_train]\n",
    "plt.scatter(X_pca[:, 0], X_pca[:, 1], marker='o', color=color)\n",
    "plt.xlabel('Principal Component 1')\n",
    "plt.ylabel('Principal Component 2')\n",
    "plt.title('PCA for first two principal components')\n",
    "plt.show()\n"
   ]
  },
  {
   "cell_type": "markdown",
   "metadata": {},
   "source": [
    "Xây Dựng Thuật Toán"
   ]
  },
  {
   "cell_type": "code",
   "execution_count": 197,
   "metadata": {},
   "outputs": [],
   "source": [
    "def h(w, x):    \n",
    "    return np.sign(np.dot(w.T, x))"
   ]
  },
  {
   "cell_type": "code",
   "execution_count": 198,
   "metadata": {},
   "outputs": [],
   "source": [
    "def has_converged(X, y, w):    \n",
    "    return np.array_equal(h(w, X), y) "
   ]
  },
  {
   "cell_type": "code",
   "execution_count": 199,
   "metadata": {},
   "outputs": [],
   "source": [
    "def perceptron(X, y, w_init):\n",
    "    N = X.shape[0]\n",
    "    d = X.shape[1]\n",
    "    w = w_init\n",
    "    mis_point_before = []\n",
    "    mis_point = []\n",
    "    while True:\n",
    "        mis_point_before = mis_point.copy()\n",
    "        mis_point.clear()\n",
    "        mix_id = np.random.permutation(N)\n",
    "        for i in mix_id:\n",
    "            xi = X[i]\n",
    "            yi = y[i]\n",
    "            Hk = h(w, xi)\n",
    "            if  Hk[0] != yi:\n",
    "                mis_point.append(i)\n",
    "                w_new = w + yi * xi \n",
    "                w = w_new\n",
    "        if len(mis_point) == 0 or len(mis_point) >= len(mis_point_before):\n",
    "            break\n",
    "    return (w, mis_point)"
   ]
  },
  {
   "cell_type": "code",
   "execution_count": 200,
   "metadata": {},
   "outputs": [],
   "source": [
    "y_train_arr = [-1 if i == 0 else 1 for i in y_train]\n",
    "X_train_arr = x_train.values\n",
    "d = x_train.shape[1]\n",
    "w_init = np.random.randn(d, 1)\n"
   ]
  },
  {
   "cell_type": "code",
   "execution_count": 201,
   "metadata": {},
   "outputs": [
    {
     "data": {
      "text/plain": [
       "-1.0"
      ]
     },
     "execution_count": 201,
     "metadata": {},
     "output_type": "execute_result"
    }
   ],
   "source": [
    "h(w_init, x_train.iloc[2])[0]"
   ]
  },
  {
   "cell_type": "code",
   "execution_count": 202,
   "metadata": {},
   "outputs": [],
   "source": [
    "(w, m) = perceptron(X_train_arr, y_train_arr, w_init)"
   ]
  },
  {
   "cell_type": "code",
   "execution_count": 203,
   "metadata": {},
   "outputs": [
    {
     "data": {
      "text/plain": [
       "207"
      ]
     },
     "execution_count": 203,
     "metadata": {},
     "output_type": "execute_result"
    }
   ],
   "source": [
    "len(m)"
   ]
  },
  {
   "cell_type": "code",
   "execution_count": 204,
   "metadata": {},
   "outputs": [],
   "source": [
    "from sklearn.linear_model import Perceptron\n",
    "clf = Perceptron(tol=1e-3, random_state=42)\n",
    "clf.fit(x_train, y_train)\n",
    "Perceptron()\n",
    "train = clf.score(x_train, y_train)\n",
    "test = clf.score(x_test, y_test)"
   ]
  },
  {
   "cell_type": "code",
   "execution_count": 205,
   "metadata": {},
   "outputs": [
    {
     "data": {
      "text/plain": [
       "0.9213250517598344"
      ]
     },
     "execution_count": 205,
     "metadata": {},
     "output_type": "execute_result"
    }
   ],
   "source": [
    "train"
   ]
  },
  {
   "cell_type": "code",
   "execution_count": 206,
   "metadata": {},
   "outputs": [
    {
     "data": {
      "text/plain": [
       "0.9651162790697675"
      ]
     },
     "execution_count": 206,
     "metadata": {},
     "output_type": "execute_result"
    }
   ],
   "source": [
    "test"
   ]
  },
  {
   "cell_type": "code",
   "execution_count": 207,
   "metadata": {},
   "outputs": [
    {
     "data": {
      "text/plain": [
       "['Perceptron.pkl']"
      ]
     },
     "execution_count": 207,
     "metadata": {},
     "output_type": "execute_result"
    }
   ],
   "source": [
    "import joblib\n",
    "joblib.dump(clf, 'Perceptron.pkl')"
   ]
  }
 ],
 "metadata": {
  "kernelspec": {
   "display_name": "Python 3",
   "language": "python",
   "name": "python3"
  },
  "language_info": {
   "codemirror_mode": {
    "name": "ipython",
    "version": 3
   },
   "file_extension": ".py",
   "mimetype": "text/x-python",
   "name": "python",
   "nbconvert_exporter": "python",
   "pygments_lexer": "ipython3",
   "version": "3.12.2"
  }
 },
 "nbformat": 4,
 "nbformat_minor": 2
}
