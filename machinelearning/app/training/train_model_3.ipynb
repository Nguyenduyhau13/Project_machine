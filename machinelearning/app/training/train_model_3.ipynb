{
 "cells": [
  {
   "cell_type": "code",
   "execution_count": null,
   "metadata": {},
   "outputs": [],
   "source": [
    "import numpy as np \n",
    "import matplotlib.pyplot as plt\n",
    "from sklearn.model_selection import train_test_split\n",
    "import numpy as np\n",
    "from scipy.spatial.distance import cdist\n",
    "from sklearn.linear_model import Perceptron\n",
    "import pandas as pd\n",
    "np.random.seed(42)"
   ]
  },
  {
   "cell_type": "code",
   "execution_count": null,
   "metadata": {},
   "outputs": [],
   "source": [
    "data= pd.read_csv(\"data_clean.csv\")"
   ]
  },
  {
   "cell_type": "code",
   "execution_count": null,
   "metadata": {},
   "outputs": [],
   "source": [
    "y = data.diagnosis.values\n",
    "x_data = data.drop(['diagnosis', \"Unnamed: 0\"], axis = 1)\n",
    "\n",
    "# Chuẩn hóa \n",
    "x = (x_data - np.min(x_data))/(np.max(x_data) - np.min(x_data))\n",
    "#x = x_data\n",
    "#data.sample(frac=1, random_state=42, replace=True)"
   ]
  },
  {
   "cell_type": "code",
   "execution_count": null,
   "metadata": {},
   "outputs": [],
   "source": [
    "x_train, x_test, y_train, y_test = train_test_split(\n",
    "\tx, y, test_size = 0.15, random_state = 42)\n",
    "\n",
    "#x_train = x_train.T\n",
    "#x_test = x_test.T\n",
    "#y_train = y_train.T\n",
    "#y_test = y_test.T\n",
    "\n",
    "print(\"x train: \", x_train.shape)\n",
    "print(\"x test: \", x_test.shape)\n",
    "print(\"y train: \", y_train.shape)\n",
    "print(\"y test: \", y_test.shape)\n"
   ]
  },
  {
   "cell_type": "code",
   "execution_count": null,
   "metadata": {},
   "outputs": [],
   "source": [
    "from sklearn.decomposition import PCA\n",
    "\n",
    "# Sử dụng PCA để giảm chiều dữ liệu xuống còn 2\n",
    "pca = PCA(n_components=2)\n",
    "X_pca = pca.fit_transform(x_train)\n",
    "\n",
    "# Vẽ biểu đồ scatter plot với 2 thành phần chính từ PCA\n",
    "color = ['red' if value == 1 else 'blue' for value in y_train]\n",
    "plt.scatter(X_pca[:, 0], X_pca[:, 1], marker='o', color=color)\n",
    "plt.xlabel('Principal Component 1')\n",
    "plt.ylabel('Principal Component 2')\n",
    "plt.title('PCA for first two principal components')\n",
    "plt.show()\n"
   ]
  },
  {
   "cell_type": "markdown",
   "metadata": {},
   "source": [
    "Xây Dựng Thuật Toán"
   ]
  },
  {
   "cell_type": "code",
   "execution_count": null,
   "metadata": {},
   "outputs": [],
   "source": [
    "def h(w, x):    \n",
    "    return np.sign(np.dot(w, x))"
   ]
  },
  {
   "cell_type": "code",
   "execution_count": null,
   "metadata": {},
   "outputs": [],
   "source": [
    "def has_converged(X, y, w):    \n",
    "    return np.array_equal(h(w, X), y) "
   ]
  },
  {
   "cell_type": "code",
   "execution_count": null,
   "metadata": {},
   "outputs": [],
   "source": [
    "def perceptron(X, y, w_init):\n",
    "    count = 0\n",
    "    N = X.shape[0]\n",
    "    d = X.shape[1]\n",
    "    w = w_init\n",
    "    mis_point_before = []\n",
    "    mis_point = []\n",
    "    while True:\n",
    "        mis_point_before = mis_point.copy()\n",
    "        mis_point.clear()\n",
    "        mix_id = np.random.permutation(N)\n",
    "        for i in mix_id:\n",
    "            xi = X[i]\n",
    "            yi = y[i]\n",
    "            Hk = h(w, xi)\n",
    "            if  Hk[0] != yi:\n",
    "                mis_point.append(i)\n",
    "                w_new = w + yi * xi \n",
    "                w = w_new\n",
    "        count+=1\n",
    "        if len(mis_point) == 0 or len(mis_point) == len(mis_point_before):\n",
    "            break\n",
    "    return (w, mis_point, count)"
   ]
  },
  {
   "cell_type": "code",
   "execution_count": null,
   "metadata": {},
   "outputs": [],
   "source": [
    "y_train_arr = [-1 if i == 0 else 1 for i in y_train]\n",
    "X_train_arr = x_train.values\n",
    "d = x_train.shape[1]\n",
    "w_init = np.random.randn(1, d)\n"
   ]
  },
  {
   "cell_type": "code",
   "execution_count": null,
   "metadata": {},
   "outputs": [],
   "source": [
    "w_init"
   ]
  },
  {
   "cell_type": "code",
   "execution_count": null,
   "metadata": {},
   "outputs": [],
   "source": [
    "(w, m, count) = perceptron(X_train_arr, y_train_arr, w_init)"
   ]
  },
  {
   "cell_type": "code",
   "execution_count": null,
   "metadata": {},
   "outputs": [],
   "source": [
    "count"
   ]
  },
  {
   "cell_type": "code",
   "execution_count": null,
   "metadata": {},
   "outputs": [],
   "source": [
    "w.shape"
   ]
  },
  {
   "cell_type": "markdown",
   "metadata": {},
   "source": [
    "Data_test"
   ]
  },
  {
   "cell_type": "code",
   "execution_count": null,
   "metadata": {},
   "outputs": [],
   "source": [
    "def test_perceptron(X, y, w):\n",
    "    y_test = [-1 if i == 0 else 1 for i in y]\n",
    "    X_test = X.values\n",
    "    Positive = 0\n",
    "    Negative = 0\n",
    "    for i in range(X_test.shape[0]):\n",
    "        if h(w, x_test.iloc[i])[0] != y_test[i]:\n",
    "            Negative+=1\n",
    "        else:\n",
    "            Positive+=1\n",
    "    return(Positive, Negative)"
   ]
  },
  {
   "cell_type": "code",
   "execution_count": null,
   "metadata": {},
   "outputs": [],
   "source": [
    "(P,N) = test_perceptron(x_test, y_test, w)"
   ]
  },
  {
   "cell_type": "code",
   "execution_count": null,
   "metadata": {},
   "outputs": [],
   "source": [
    "(P,N)"
   ]
  },
  {
   "cell_type": "code",
   "execution_count": null,
   "metadata": {},
   "outputs": [],
   "source": [
    "from sklearn.linear_model import Perceptron\n",
    "clf = Perceptron(tol=1e-3, random_state=42)\n",
    "clf.fit(x_train, y_train)\n",
    "Perceptron()\n",
    "train = clf.score(x_train, y_train)\n",
    "test = clf.score(x_test, y_test)"
   ]
  },
  {
   "cell_type": "code",
   "execution_count": null,
   "metadata": {},
   "outputs": [],
   "source": [
    "train"
   ]
  },
  {
   "cell_type": "code",
   "execution_count": null,
   "metadata": {},
   "outputs": [],
   "source": [
    "test"
   ]
  },
  {
   "cell_type": "code",
   "execution_count": null,
   "metadata": {},
   "outputs": [],
   "source": [
    "import joblib\n",
    "joblib.dump(clf, 'Perceptron.pkl')"
   ]
  }
 ],
 "metadata": {
  "kernelspec": {
   "display_name": "Python 3",
   "language": "python",
   "name": "python3"
  },
  "language_info": {
   "codemirror_mode": {
    "name": "ipython",
    "version": 3
   },
   "file_extension": ".py",
   "mimetype": "text/x-python",
   "name": "python",
   "nbconvert_exporter": "python",
   "pygments_lexer": "ipython3",
   "version": "3.11.5"
  }
 },
 "nbformat": 4,
 "nbformat_minor": 2
}
