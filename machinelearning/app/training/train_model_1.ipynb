{
 "cells": [
  {
   "cell_type": "code",
   "execution_count": null,
   "metadata": {},
   "outputs": [],
   "source": [
    "from sklearn.model_selection import train_test_split\n",
    "import numpy as np\n",
    "import pandas as pd\n",
    "import matplotlib.pyplot as plt"
   ]
  },
  {
   "cell_type": "markdown",
   "metadata": {},
   "source": [
    "CHUẨN HÓA"
   ]
  },
  {
   "cell_type": "code",
   "execution_count": null,
   "metadata": {},
   "outputs": [],
   "source": [
    "data= pd.read_csv(\"data_clean.csv\")"
   ]
  },
  {
   "cell_type": "code",
   "execution_count": null,
   "metadata": {},
   "outputs": [],
   "source": [
    "data.shape"
   ]
  },
  {
   "cell_type": "code",
   "execution_count": null,
   "metadata": {},
   "outputs": [],
   "source": [
    "y = data.diagnosis.values\n",
    "x_data = data.drop([\"diagnosis\", \"Unnamed: 0\"], axis = 1)\n",
    "\n",
    "# Chuẩn hóa \n",
    "x = (x_data - np.min(x_data))/(np.max(x_data) - np.min(x_data))\n",
    "\n"
   ]
  },
  {
   "cell_type": "code",
   "execution_count": null,
   "metadata": {},
   "outputs": [],
   "source": [
    "x.head()"
   ]
  },
  {
   "cell_type": "code",
   "execution_count": null,
   "metadata": {},
   "outputs": [],
   "source": [
    "array = x.values[:, 1:]  # Loại bỏ cột chỉ mục\n",
    "y0 = [i for i in range(y.shape[0]) if y[i]==0]\n",
    "y1 = [i for i in range(y.shape[0]) if y[i]==1]\n",
    "X0 = np.array([array[i] for i in y0])\n",
    "X1 = np.array([array[i] for i in y1])\n",
    "y_0=np.zeros(len(y0))\n",
    "y_1=np.ones(len(y1))\n",
    "\n",
    "plt.plot(X0, y_0, 'ro', markersize = 8)\n",
    "plt.plot(X1, y_1, 'bs', markersize = 8)\n",
    "plt.show()"
   ]
  },
  {
   "cell_type": "markdown",
   "metadata": {},
   "source": [
    "DỮ LIỆU HUẤN LUYỆN VÀ KIỂM TRA"
   ]
  },
  {
   "cell_type": "code",
   "execution_count": null,
   "metadata": {},
   "outputs": [],
   "source": [
    "\n",
    "x_train, x_test, y_train, y_test = train_test_split(\n",
    "\tx, y, test_size = 0.15, random_state = 42)\n",
    "\n",
    "x_train = x_train.T\n",
    "x_test = x_test.T\n",
    "y_train = y_train.T\n",
    "y_test = y_test.T\n",
    "\n",
    "print(\"x train: \", x_train.shape)\n",
    "print(\"x test: \", x_test.shape)\n",
    "print(\"y train: \", y_train.shape)\n",
    "print(\"y test: \", y_test.shape)\n"
   ]
  },
  {
   "cell_type": "markdown",
   "metadata": {},
   "source": [
    "ĐỘ LỆCH"
   ]
  },
  {
   "cell_type": "code",
   "execution_count": null,
   "metadata": {},
   "outputs": [],
   "source": [
    "def initialize_weights_and_bias(dimension):\n",
    "\tw = np.full((dimension, 1), 0.01)\n",
    "\tb = 0.0\n",
    "\treturn w, b\n"
   ]
  },
  {
   "cell_type": "code",
   "execution_count": null,
   "metadata": {},
   "outputs": [],
   "source": [
    "# z = np.dot(w.T, x_train)+b\n",
    "def sigmoid(z):\n",
    "\ty_head = 1/(1 + np.exp(-z))\n",
    "\treturn y_head\n"
   ]
  },
  {
   "cell_type": "code",
   "execution_count": null,
   "metadata": {},
   "outputs": [],
   "source": [
    "def forward_backward_propagation(w, b, x_train, y_train):\n",
    "\tz = np.dot(w.T, x_train) + b\n",
    "\ty_head = sigmoid(z)\n",
    "\tloss = - y_train * np.log(y_head) - (1 - y_train) * np.log(1 - y_head)\n",
    "\t# x_train.shape[1] is for scaling\n",
    "\tcost = (np.sum(loss)) / x_train.shape[1]\t \n",
    "\n",
    "\t# backward propagation\n",
    "\tderivative_weight = (np.dot(x_train, (\n",
    "\t\t(y_head - y_train).T))) / x_train.shape[1] \n",
    "\tderivative_bias = np.sum(\n",
    "\t\ty_head-y_train) / x_train.shape[1]\t\t\t\t \n",
    "\tgradients = {\"derivative_weight\": derivative_weight,\n",
    "\t\t\t\t\"derivative_bias\": derivative_bias}\n",
    "\treturn cost, gradients\n"
   ]
  },
  {
   "cell_type": "code",
   "execution_count": null,
   "metadata": {},
   "outputs": [],
   "source": [
    "def update(w, b, x_train, y_train, learning_rate, number_of_iterarion):\n",
    "\tcost_list = []\n",
    "\tcost_list2 = []\n",
    "\tindex = []\n",
    "\n",
    "\t# tham số cập nhật (học) là number_of_iterarion \n",
    "\tfor i in range(number_of_iterarion):\n",
    "\t\t# thực hiện lan truyền tiến và lùi và tìm chi phí và độ dốc\n",
    "\t\tcost, gradients = forward_backward_propagation(w, b, x_train, y_train)\n",
    "\t\tcost_list.append(cost)\n",
    "\n",
    "\t\t# cập nhật\n",
    "\t\tw = w - learning_rate * gradients[\"derivative_weight\"]\n",
    "\t\tb = b - learning_rate * gradients[\"derivative_bias\"]\n",
    "\t\tif i % 10 == 0:\n",
    "\t\t\tcost_list2.append(cost)\n",
    "\t\t\tindex.append(i)\n",
    "\t\t\tprint (\"Cost after iteration % i: % f\" %(i, cost))\n",
    "\n",
    "\t# trọng số và độ lệch tham số cập nhật \n",
    "\tparameters = {\"weight\": w, \"bias\": b}\n",
    "\tplt.plot(index, cost_list2)\n",
    "\tplt.xticks(index, rotation ='vertical')\n",
    "\tplt.xlabel(\"Number of Iterarion\")\n",
    "\tplt.ylabel(\"Cost\")\n",
    "\tplt.show()\n",
    "\treturn parameters, gradients, cost_list\n"
   ]
  },
  {
   "cell_type": "markdown",
   "metadata": {},
   "source": [
    "DỰ ĐOÁN"
   ]
  },
  {
   "cell_type": "code",
   "execution_count": null,
   "metadata": {},
   "outputs": [],
   "source": [
    "def predict(w, b, x_test):\n",
    "\tz = sigmoid(np.dot(w.T, x_test)+b)\n",
    "\tY_prediction = np.zeros((1, x_test.shape[1]))\n",
    "\n",
    "\t# if z is bigger than 0.5, our prediction is sign one (y_head = 1),\n",
    "\t# if z is smaller than 0.5, our prediction is sign zero (y_head = 0),\n",
    "\tfor i in range(z.shape[1]):\n",
    "\t\tif z[0, i]<= 0.5:\n",
    "\t\t\tY_prediction[0, i] = 0\n",
    "\t\telse:\n",
    "\t\t\tY_prediction[0, i] = 1\n",
    "\n",
    "\treturn Y_prediction\n"
   ]
  },
  {
   "cell_type": "markdown",
   "metadata": {},
   "source": [
    "HUẤN LUYỆN MÔ HÌNH HỒI QUY LOGISTIC"
   ]
  },
  {
   "cell_type": "code",
   "execution_count": null,
   "metadata": {},
   "outputs": [],
   "source": [
    "def logistic_regression(x_train, y_train, x_test, y_test, \n",
    "\t\t\t\t\t\tlearning_rate, num_iterations):\n",
    "\n",
    "\tdimension = x_train.shape[0]\n",
    "\tw, b = initialize_weights_and_bias(dimension)\n",
    "\t\n",
    "\tparameters, gradients, cost_list = update(\n",
    "\t\tw, b, x_train, y_train, learning_rate, num_iterations)\n",
    "\t\n",
    "\ty_prediction_test = predict(\n",
    "\t\tparameters[\"weight\"], parameters[\"bias\"], x_test)\n",
    "\ty_prediction_train = predict(\n",
    "\t\tparameters[\"weight\"], parameters[\"bias\"], x_train)\n",
    "\n",
    "\t# train / test Errors\n",
    "\tprint(\"train accuracy: {} %\".format(\n",
    "\t\t100 - np.mean(np.abs(y_prediction_train - y_train)) * 100))\n",
    "\tprint(\"test accuracy: {} %\".format(\n",
    "\t\t100 - np.mean(np.abs(y_prediction_test - y_test)) * 100))\n",
    "\t\n",
    "logistic_regression(x_train, y_train, x_test, \n",
    "\t\t\t\t\ty_test, learning_rate = 1, num_iterations = 100) \n"
   ]
  },
  {
   "cell_type": "code",
   "execution_count": null,
   "metadata": {},
   "outputs": [],
   "source": [
    "from sklearn import linear_model\n",
    "logreg = linear_model.LogisticRegression(random_state = 42, max_iter = 150)\n",
    "print(\"test accuracy: {} \".format(\n",
    "\tlogreg.fit(x_train.T, y_train.T).score(x_test.T, y_test.T)))\n",
    "print(\"train accuracy: {} \".format(\n",
    "\tlogreg.fit(x_train.T, y_train.T).score(x_train.T, y_train.T)))\n"
   ]
  },
  {
   "cell_type": "markdown",
   "metadata": {},
   "source": [
    "LƯU MÔ HÌNH"
   ]
  },
  {
   "cell_type": "code",
   "execution_count": null,
   "metadata": {},
   "outputs": [],
   "source": [
    "import joblib\n",
    "joblib.dump(logreg, 'logistic_regression_model.pkl')"
   ]
  },
  {
   "cell_type": "markdown",
   "metadata": {},
   "source": []
  }
 ],
 "metadata": {
  "kernelspec": {
   "display_name": "Python 3",
   "language": "python",
   "name": "python3"
  },
  "language_info": {
   "codemirror_mode": {
    "name": "ipython",
    "version": 3
   },
   "file_extension": ".py",
   "mimetype": "text/x-python",
   "name": "python",
   "nbconvert_exporter": "python",
   "pygments_lexer": "ipython3",
   "version": "3.11.5"
  }
 },
 "nbformat": 4,
 "nbformat_minor": 2
}
