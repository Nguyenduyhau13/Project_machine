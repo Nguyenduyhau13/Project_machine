{
 "cells": [
  {
   "cell_type": "code",
   "execution_count": null,
   "metadata": {},
   "outputs": [],
   "source": [
    "from sklearn.model_selection import train_test_split\n",
    "from sklearn.neighbors import KNeighborsClassifier\n",
    "import numpy as np\n",
    "import matplotlib.pyplot as plt\n",
    "import seaborn as sns\n",
    "import pandas as pd"
   ]
  },
  {
   "cell_type": "code",
   "execution_count": null,
   "metadata": {},
   "outputs": [],
   "source": [
    "data= pd.read_csv(\"data_clean.csv\")"
   ]
  },
  {
   "cell_type": "code",
   "execution_count": null,
   "metadata": {},
   "outputs": [],
   "source": [
    "sns.lmplot(x = 'radius_mean', y = 'texture_mean', hue = 'diagnosis', data = data) \n"
   ]
  },
  {
   "cell_type": "code",
   "execution_count": null,
   "metadata": {},
   "outputs": [],
   "source": [
    "sns.lmplot(x ='smoothness_mean', y = 'compactness_mean', \n",
    "\t\tdata = data, hue = 'diagnosis') \n"
   ]
  },
  {
   "cell_type": "markdown",
   "metadata": {},
   "source": [
    "DỮ LIỆU HUẤN LUYỆN\n"
   ]
  },
  {
   "cell_type": "code",
   "execution_count": null,
   "metadata": {},
   "outputs": [],
   "source": [
    "y = data.diagnosis.values\n",
    "x_data = data.drop(['diagnosis', \"Unnamed: 0\"], axis = 1)\n",
    "\n",
    "# Chuẩn hóa \n",
    "X = (x_data - np.min(x_data))/(np.max(x_data) - np.min(x_data))\n",
    "\n"
   ]
  },
  {
   "cell_type": "code",
   "execution_count": null,
   "metadata": {},
   "outputs": [],
   "source": [
    "from sklearn.model_selection import train_test_split \n",
    "X_train, X_test, y_train, y_test = train_test_split( \n",
    "\tX, y, test_size = 0.15, random_state = 42) \n",
    "\n",
    "print(\"x train: \", X_train.shape)\n",
    "print(\"x test: \", X_test.shape)\n",
    "print(\"y train: \", y_train.shape)\n",
    "print(\"y test: \", y_test.shape)\n"
   ]
  },
  {
   "cell_type": "markdown",
   "metadata": {},
   "source": [
    "HUẤN LUYỆN KNN"
   ]
  },
  {
   "cell_type": "markdown",
   "metadata": {},
   "source": [
    "XÁC THỰC CHÉO"
   ]
  },
  {
   "cell_type": "code",
   "execution_count": null,
   "metadata": {},
   "outputs": [],
   "source": [
    "neighbors = [] \n",
    "cv_scores = [] \n",
    "\n",
    "from sklearn.model_selection import cross_val_score \n",
    "# thực hiện xác nhận chéo 10 lần\n",
    "for k in range(1, 51, 2): \n",
    "\tneighbors.append(k) \n",
    "\tknn = KNeighborsClassifier(n_neighbors = k) \n",
    "\tscores = cross_val_score( \n",
    "\t\tknn, X, y, cv = 10, scoring = 'accuracy') \n",
    "\tcv_scores.append(scores.mean()) \n"
   ]
  },
  {
   "cell_type": "code",
   "execution_count": null,
   "metadata": {},
   "outputs": [],
   "source": [
    "MSE = [1-x for x in cv_scores] \n",
    "\n",
    "# xác định k tốt nhất\n",
    "optimal_k = neighbors[MSE.index(min(MSE))] \n",
    "print('The optimal number of neighbors is % d ' % optimal_k) \n",
    "\n",
    "# vẽ lỗi phân loại sai số k\n",
    "plt.figure(figsize = (10, 6)) \n",
    "plt.plot(neighbors, MSE) \n",
    "plt.xlabel('Number of neighbors') \n",
    "plt.ylabel('Misclassification Error') \n",
    "plt.show() \n"
   ]
  },
  {
   "cell_type": "code",
   "execution_count": null,
   "metadata": {},
   "outputs": [],
   "source": [
    "knn = KNeighborsClassifier(n_neighbors=13) \n",
    "knn.fit(X_train, y_train).score(X_train, y_train)"
   ]
  },
  {
   "cell_type": "code",
   "execution_count": null,
   "metadata": {},
   "outputs": [],
   "source": [
    "knn.score(X_test, y_test)"
   ]
  },
  {
   "cell_type": "markdown",
   "metadata": {},
   "source": [
    "LƯU MÔ HÌNH"
   ]
  },
  {
   "cell_type": "code",
   "execution_count": null,
   "metadata": {},
   "outputs": [],
   "source": [
    "import joblib\n",
    "joblib.dump(knn, 'knn.pkl')"
   ]
  }
 ],
 "metadata": {
  "kernelspec": {
   "display_name": "Python 3",
   "language": "python",
   "name": "python3"
  },
  "language_info": {
   "codemirror_mode": {
    "name": "ipython",
    "version": 3
   },
   "file_extension": ".py",
   "mimetype": "text/x-python",
   "name": "python",
   "nbconvert_exporter": "python",
   "pygments_lexer": "ipython3",
   "version": "3.11.5"
  }
 },
 "nbformat": 4,
 "nbformat_minor": 2
}
