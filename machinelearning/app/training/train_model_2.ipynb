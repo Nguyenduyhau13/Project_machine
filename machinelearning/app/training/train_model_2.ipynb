{
 "cells": [
  {
   "cell_type": "code",
   "execution_count": null,
   "metadata": {},
   "outputs": [],
   "source": [
    "from sklearn.model_selection import train_test_split, cross_val_score \n",
    "from sklearn.neighbors import KNeighborsClassifier, LocalOutlierFactor\n",
    "from sklearn.metrics import accuracy_score, precision_score, recall_score, f1_score, roc_auc_score\n",
    "import numpy as np\n",
    "import matplotlib.pyplot as plt\n",
    "import seaborn as sns\n",
    "import pandas as pd"
   ]
  },
  {
   "cell_type": "code",
   "execution_count": null,
   "metadata": {},
   "outputs": [],
   "source": [
    "data= pd.read_csv(\"data_clean.csv\")"
   ]
  },
  {
   "cell_type": "code",
   "execution_count": null,
   "metadata": {},
   "outputs": [],
   "source": [
    "sns.lmplot(x = 'radius_mean', y = 'texture_mean', hue = 'diagnosis', data = data) \n"
   ]
  },
  {
   "cell_type": "code",
   "execution_count": null,
   "metadata": {},
   "outputs": [],
   "source": [
    "sns.lmplot(x ='smoothness_mean', y = 'compactness_mean', \n",
    "\t\tdata = data, hue = 'diagnosis') \n"
   ]
  },
  {
   "cell_type": "markdown",
   "metadata": {},
   "source": [
    "DỮ LIỆU HUẤN LUYỆN\n"
   ]
  },
  {
   "cell_type": "code",
   "execution_count": null,
   "metadata": {},
   "outputs": [],
   "source": [
    "y = data.diagnosis\n",
    "x_data = data.drop(['diagnosis', \"Unnamed: 0\"], axis = 1)\n",
    "\n",
    "# Chuẩn hóa \n",
    "X = (x_data - np.min(x_data))/(np.max(x_data) - np.min(x_data))\n",
    "\n"
   ]
  },
  {
   "cell_type": "code",
   "execution_count": null,
   "metadata": {},
   "outputs": [],
   "source": [
    "from sklearn.model_selection import train_test_split \n",
    "X_train, X_test, y_train, y_test = train_test_split( \n",
    "\tX, y, test_size = 0.15, random_state = 42) \n",
    "\n",
    "print(\"x train: \", X_train.shape)\n",
    "print(\"x test: \", X_test.shape)\n",
    "print(\"y train: \", y_train.shape)\n",
    "print(\"y test: \", y_test.shape)\n"
   ]
  },
  {
   "cell_type": "markdown",
   "metadata": {},
   "source": [
    "Phát hiện ngoại vi"
   ]
  },
  {
   "cell_type": "code",
   "execution_count": null,
   "metadata": {},
   "outputs": [],
   "source": [
    "clf=LocalOutlierFactor()\n",
    "out_predict=clf.fit_predict(X_train)\n",
    "X_score=clf.negative_outlier_factor_\n",
    "outlier_score=pd.DataFrame()\n",
    "outlier_score[\"Score\"]=X_score\n",
    "outlier_score[\"Score\"].head(20)"
   ]
  },
  {
   "cell_type": "code",
   "execution_count": null,
   "metadata": {},
   "outputs": [],
   "source": [
    "threshold=-2.5\n",
    "filtre=outlier_score[\"Score\"]<threshold\n",
    "outlier_index=outlier_score[filtre].index.tolist()"
   ]
  },
  {
   "cell_type": "code",
   "execution_count": null,
   "metadata": {},
   "outputs": [],
   "source": [
    "X_train=X_train.drop(outlier_index)\n",
    "y_train=y_train.drop(outlier_index).values"
   ]
  },
  {
   "cell_type": "code",
   "execution_count": null,
   "metadata": {},
   "outputs": [],
   "source": [
    "X_train.shape"
   ]
  },
  {
   "cell_type": "markdown",
   "metadata": {},
   "source": [
    "HUẤN LUYỆN KNN"
   ]
  },
  {
   "cell_type": "code",
   "execution_count": null,
   "metadata": {},
   "outputs": [],
   "source": [
    "knn = KNeighborsClassifier() \n",
    "knn.fit(X_train, y_train).score(X_train, y_train)"
   ]
  },
  {
   "cell_type": "code",
   "execution_count": null,
   "metadata": {},
   "outputs": [],
   "source": [
    "knn.score(X_test, y_test)"
   ]
  },
  {
   "cell_type": "code",
   "execution_count": null,
   "metadata": {},
   "outputs": [],
   "source": [
    "y_pred1 = knn.predict(X_test)\n",
    "cross_val1 = cross_val_score(knn, X, y, cv = 10, scoring = 'accuracy') \n",
    "accuracy1 = accuracy_score(y_test, y_pred1)\n",
    "precision1 = precision_score(y_test, y_pred1)\n",
    "recall1 = recall_score(y_test, y_pred1)\n",
    "f1_1 = f1_score(y_test, y_pred1)\n",
    "auc1 = roc_auc_score(y_test, y_pred1)"
   ]
  },
  {
   "cell_type": "markdown",
   "metadata": {},
   "source": [
    "Tối ưu"
   ]
  },
  {
   "cell_type": "markdown",
   "metadata": {},
   "source": [
    "XÁC THỰC CHÉO"
   ]
  },
  {
   "cell_type": "code",
   "execution_count": null,
   "metadata": {},
   "outputs": [],
   "source": [
    "neighbors = [] \n",
    "cv_scores = [] \n",
    "\n",
    "# thực hiện xác nhận chéo 10 lần\n",
    "for k in range(1, 51, 2): \n",
    "\tneighbors.append(k) \n",
    "\tknn = KNeighborsClassifier(n_neighbors = k) \n",
    "\tscores = cross_val_score( \n",
    "\t\tknn, X, y, cv = 10, scoring = 'accuracy') \n",
    "\tcv_scores.append(scores.mean()) \n"
   ]
  },
  {
   "cell_type": "code",
   "execution_count": null,
   "metadata": {},
   "outputs": [],
   "source": [
    "MSE = [1-x for x in cv_scores] \n",
    "\n",
    "# xác định k tốt nhất\n",
    "optimal_k = neighbors[MSE.index(min(MSE))] \n",
    "print('The optimal number of neighbors is % d ' % optimal_k) \n",
    "\n",
    "# vẽ lỗi phân loại sai số k\n",
    "plt.figure(figsize = (10, 6)) \n",
    "plt.plot(neighbors, MSE) \n",
    "plt.xlabel('Number of neighbors') \n",
    "plt.ylabel('Misclassification Error') \n",
    "plt.show() \n"
   ]
  },
  {
   "cell_type": "code",
   "execution_count": null,
   "metadata": {},
   "outputs": [],
   "source": [
    "Knn_Best_Params = KNeighborsClassifier(n_neighbors=13) \n",
    "Knn_Best_Params.fit(X_train, y_train).score(X_train, y_train)"
   ]
  },
  {
   "cell_type": "code",
   "execution_count": null,
   "metadata": {},
   "outputs": [],
   "source": [
    "Knn_Best_Params.score(X_test, y_test)"
   ]
  },
  {
   "cell_type": "code",
   "execution_count": null,
   "metadata": {},
   "outputs": [],
   "source": [
    "y_pred2 = Knn_Best_Params.predict(X_test)\n",
    "cross_val2 = cross_val_score(Knn_Best_Params, X, y, cv = 10, scoring = 'accuracy')\n",
    "accuracy2 = accuracy_score(y_test, y_pred2)\n",
    "precision2 = precision_score(y_test, y_pred2)\n",
    "recall2 = recall_score(y_test, y_pred2)\n",
    "f1_2 = f1_score(y_test, y_pred2)\n",
    "auc2 = roc_auc_score(y_test, y_pred2)"
   ]
  },
  {
   "cell_type": "markdown",
   "metadata": {},
   "source": [
    "So sánh"
   ]
  },
  {
   "cell_type": "code",
   "execution_count": null,
   "metadata": {},
   "outputs": [],
   "source": [
    "data1 = {\n",
    "    'Model': ['KNN','Knn_Best_Params'],\n",
    "    \"cross_val\":[cross_val1.mean(), cross_val2.mean()],\n",
    "    'Accuracy': [accuracy1, accuracy2],\n",
    "    'Precision': [precision1, precision2],\n",
    "    'Recall': [recall1, recall2],\n",
    "    'F1 Score': [f1_1, f1_2],\n",
    "    'AUC': [auc1, auc2]\n",
    "}\n",
    "\n",
    "df = pd.DataFrame(data1)\n",
    "df"
   ]
  },
  {
   "cell_type": "markdown",
   "metadata": {},
   "source": [
    "LƯU MÔ HÌNH"
   ]
  },
  {
   "cell_type": "code",
   "execution_count": null,
   "metadata": {},
   "outputs": [],
   "source": [
    "import joblib\n",
    "joblib.dump(Knn_Best_Params, 'knn.pkl')"
   ]
  }
 ],
 "metadata": {
  "kernelspec": {
   "display_name": "Python 3",
   "language": "python",
   "name": "python3"
  },
  "language_info": {
   "codemirror_mode": {
    "name": "ipython",
    "version": 3
   },
   "file_extension": ".py",
   "mimetype": "text/x-python",
   "name": "python",
   "nbconvert_exporter": "python",
   "pygments_lexer": "ipython3",
   "version": "3.12.2"
  }
 },
 "nbformat": 4,
 "nbformat_minor": 2
}
