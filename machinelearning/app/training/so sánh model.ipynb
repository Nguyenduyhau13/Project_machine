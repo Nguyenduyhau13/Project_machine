{
 "cells": [
  {
   "cell_type": "code",
   "execution_count": null,
   "metadata": {},
   "outputs": [],
   "source": [
    "from sklearn.model_selection import train_test_split, cross_val_score\n",
    "from sklearn.metrics import accuracy_score, precision_score, recall_score, f1_score, roc_auc_score\n",
    "import numpy as np\n",
    "import pandas as pd\n",
    "import joblib"
   ]
  },
  {
   "cell_type": "code",
   "execution_count": null,
   "metadata": {},
   "outputs": [],
   "source": [
    "model_1=joblib.load('logistic_regression_model.pkl')\n",
    "model_2=joblib.load('knn.pkl')\n",
    "model_3=joblib.load('Perceptron.pkl')"
   ]
  },
  {
   "cell_type": "code",
   "execution_count": null,
   "metadata": {},
   "outputs": [],
   "source": [
    "data = pd.read_csv('data_clean.csv')\n",
    "y = data.diagnosis.values\n",
    "x_data = data.drop([\"diagnosis\", \"Unnamed: 0\"], axis = 1)\n",
    "# Chuẩn hóa \n",
    "x = (x_data - np.min(x_data))/(np.max(x_data) - np.min(x_data))"
   ]
  },
  {
   "cell_type": "code",
   "execution_count": null,
   "metadata": {},
   "outputs": [],
   "source": [
    "from sklearn.model_selection import train_test_split\n",
    "\n",
    "# Assuming x and y are your features and labels\n",
    "X_train, X_test, y_train, y_test = train_test_split(x, y, test_size=0.15, random_state=42)"
   ]
  },
  {
   "cell_type": "code",
   "execution_count": null,
   "metadata": {},
   "outputs": [],
   "source": [
    "y_pred1 = model_1.predict(X_test)\n",
    "y_pred2 = model_2.predict(X_test)\n",
    "y_pred3 = model_3.predict(X_test)"
   ]
  },
  {
   "cell_type": "code",
   "execution_count": null,
   "metadata": {},
   "outputs": [],
   "source": [
    "y_pred1"
   ]
  },
  {
   "cell_type": "markdown",
   "metadata": {},
   "source": [
    "BẢNG SO SÁNH"
   ]
  },
  {
   "cell_type": "code",
   "execution_count": null,
   "metadata": {},
   "outputs": [],
   "source": [
    "#model 1\n",
    "cross_val1 = cross_val_score(model_1, x, y, cv = 10, scoring = 'accuracy') \n",
    "accuracy1 = accuracy_score(y_test, y_pred1)\n",
    "precision1 = precision_score(y_test, y_pred1)\n",
    "recall1 = recall_score(y_test, y_pred1)\n",
    "f1_1 = f1_score(y_test, y_pred1)\n",
    "auc1 = roc_auc_score(y_test, y_pred1)\n",
    "#model 2\n",
    "cross_val2 = cross_val_score(model_2, x, y, cv = 10, scoring = 'accuracy')\n",
    "accuracy2 = accuracy_score(y_test, y_pred2)\n",
    "precision2 = precision_score(y_test, y_pred2)\n",
    "recall2 = recall_score(y_test, y_pred2)\n",
    "f1_2 = f1_score(y_test, y_pred2)\n",
    "auc2 = roc_auc_score(y_test, y_pred2)\n",
    "#model 3\n",
    "cross_val3 = cross_val_score(model_3, x, y, cv = 10, scoring = 'accuracy')\n",
    "accuracy3 = accuracy_score(y_test, y_pred3)\n",
    "precision3 = precision_score(y_test, y_pred3)\n",
    "recall3 = recall_score(y_test, y_pred3)\n",
    "f1_3 = f1_score(y_test, y_pred3)\n",
    "auc3 = roc_auc_score(y_test, y_pred3)"
   ]
  },
  {
   "cell_type": "markdown",
   "metadata": {},
   "source": [
    "BẢNG SO SÁNH"
   ]
  },
  {
   "cell_type": "code",
   "execution_count": null,
   "metadata": {},
   "outputs": [],
   "source": [
    "# lập bảng so sánh\n",
    "data1 = {\n",
    "    'Model': ['Logistic_regression','KNN','PLA'],\n",
    "    \"cross_val\":[cross_val1.mean(), cross_val2.mean(), cross_val3.mean()],\n",
    "    'Accuracy': [accuracy1, accuracy2, accuracy3],\n",
    "    'Precision': [precision1, precision2, precision3],\n",
    "    'Recall': [recall1, recall2, recall3],\n",
    "    'F1 Score': [f1_1, f1_2, f1_3],\n",
    "    'AUC': [auc1, auc2, auc3]\n",
    "}\n",
    "\n",
    "df = pd.DataFrame(data1)\n",
    "df"
   ]
  },
  {
   "cell_type": "markdown",
   "metadata": {},
   "source": [
    "BIỂU ĐỒ SO SÁNH"
   ]
  },
  {
   "cell_type": "code",
   "execution_count": null,
   "metadata": {},
   "outputs": [],
   "source": [
    "import matplotlib.pyplot as plt\n",
    "\n",
    "# Lấy danh sách các models và các chỉ số\n",
    "models = df['Model']\n",
    "metrics = ['Accuracy', 'Precision', 'Recall', 'F1 Score', 'AUC']\n",
    "\n",
    "# Thiết lập biểu đồ\n",
    "plt.figure(figsize=(12, 8))\n",
    "\n",
    "# Vẽ từng chỉ số\n",
    "for metric in metrics:\n",
    "    plt.plot(models, df[metric], marker='o', label=metric)\n",
    "\n",
    "# Thêm tiêu đề và nhãn\n",
    "plt.title('So sánh các chỉ số giữa các mô hình')\n",
    "plt.xlabel('Model')\n",
    "plt.ylabel('Giá trị')\n",
    "plt.legend()\n",
    "\n",
    "# Hiển thị biểu đồ\n",
    "plt.grid(True)\n",
    "plt.show()\n"
   ]
  }
 ],
 "metadata": {
  "kernelspec": {
   "display_name": "Python 3",
   "language": "python",
   "name": "python3"
  },
  "language_info": {
   "codemirror_mode": {
    "name": "ipython",
    "version": 3
   },
   "file_extension": ".py",
   "mimetype": "text/x-python",
   "name": "python",
   "nbconvert_exporter": "python",
   "pygments_lexer": "ipython3",
   "version": "3.12.2"
  }
 },
 "nbformat": 4,
 "nbformat_minor": 2
}
